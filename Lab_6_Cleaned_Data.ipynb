{
 "cells": [
  {
   "cell_type": "markdown",
   "metadata": {},
   "source": [
    "Import pandas and numpy for the skillClass function and to import our raw data."
   ]
  },
  {
   "cell_type": "code",
   "execution_count": 2,
   "metadata": {
    "collapsed": true
   },
   "outputs": [],
   "source": [
    "import pandas as pd\n",
    "import numpy as np"
   ]
  },
  {
   "cell_type": "markdown",
   "metadata": {},
   "source": [
    "Import our raw data"
   ]
  },
  {
   "cell_type": "code",
   "execution_count": 13,
   "metadata": {
    "collapsed": true
   },
   "outputs": [],
   "source": [
    "rankingRaw = pd.read_csv('MSIS_Ranking_Raw.csv').drop('PROGRAM', axis = 1)\n",
    "skillsRaw = pd.read_csv('MSIS_Skills_Raw.csv')"
   ]
  },
  {
   "cell_type": "markdown",
   "metadata": {},
   "source": [
    "Define the lists below that will be used for the function. The two categories will be technical and business skills"
   ]
  },
  {
   "cell_type": "code",
   "execution_count": 16,
   "metadata": {
    "collapsed": true
   },
   "outputs": [],
   "source": [
    "technicalSkills = ['SQL', 'Java', 'HTML', 'Tableau', 'C']\n",
    "businessSkills = ['Microsoft_Excel', 'Microsoft_Office', 'Data_Analysis', 'Management', 'Project_Management', 'Business_Analysis',\n",
    "                 'Microsoft_PowerPoint', 'Leadership', 'Requirements_Analysis', 'Business_Intelligence']"
   ]
  },
  {
   "cell_type": "markdown",
   "metadata": {},
   "source": [
    "The skillClass function below will iterate through our lists above and label the skills as either technical or business"
   ]
  },
  {
   "cell_type": "code",
   "execution_count": 18,
   "metadata": {},
   "outputs": [],
   "source": [
    "def skillClass(skill):\n",
    "    if(skill in technicalSkills):\n",
    "        return 'Technical Skill'\n",
    "    elif(skill in businessSkills):\n",
    "        return 'Business Skill'\n",
    "    else:\n",
    "        return 'Unknown'"
   ]
  },
  {
   "cell_type": "markdown",
   "metadata": {},
   "source": [
    "Apply the skillClass function to our skills dataframe"
   ]
  },
  {
   "cell_type": "code",
   "execution_count": 19,
   "metadata": {
    "collapsed": true
   },
   "outputs": [],
   "source": [
    "skillsRaw['Skill Class'] = skillsRaw['Skills'].apply(skillClass)"
   ]
  },
  {
   "cell_type": "markdown",
   "metadata": {},
   "source": [
    "Export both csv to import into Tableau"
   ]
  },
  {
   "cell_type": "code",
   "execution_count": 22,
   "metadata": {
    "collapsed": true
   },
   "outputs": [],
   "source": [
    "rankingRaw.to_csv('MSIS_Ranking.csv')\n",
    "skillsRaw.to_csv('MSIS_Skills.csv')"
   ]
  }
 ],
 "metadata": {
  "kernelspec": {
   "display_name": "Python 3",
   "language": "python",
   "name": "python3"
  },
  "language_info": {
   "codemirror_mode": {
    "name": "ipython",
    "version": 3
   },
   "file_extension": ".py",
   "mimetype": "text/x-python",
   "name": "python",
   "nbconvert_exporter": "python",
   "pygments_lexer": "ipython3",
   "version": "3.6.2"
  }
 },
 "nbformat": 4,
 "nbformat_minor": 2
}
